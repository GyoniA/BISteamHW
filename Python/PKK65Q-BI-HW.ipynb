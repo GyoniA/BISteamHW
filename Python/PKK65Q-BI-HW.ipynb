{
 "cells": [
  {
   "metadata": {},
   "cell_type": "markdown",
   "source": "Install dependencies",
   "id": "d3b12900f57d27fb"
  },
  {
   "metadata": {
    "ExecuteTime": {
     "end_time": "2025-04-23T14:58:17.424956Z",
     "start_time": "2025-04-23T14:58:13.900276Z"
    }
   },
   "cell_type": "code",
   "source": "!pip install mysql-connector-python pandas scikit-learn ydata-profiling matplotlib seaborn",
   "id": "a7adc528e1d2bf4a",
   "outputs": [
    {
     "name": "stdout",
     "output_type": "stream",
     "text": [
      "Requirement already satisfied: mysql-connector-python in c:\\users\\gyoni\\miniconda3\\lib\\site-packages (9.3.0)\n",
      "Requirement already satisfied: pandas in c:\\users\\gyoni\\miniconda3\\lib\\site-packages (2.2.3)\n",
      "Requirement already satisfied: scikit-learn in c:\\users\\gyoni\\miniconda3\\lib\\site-packages (1.6.1)\n",
      "Requirement already satisfied: ydata-profiling in c:\\users\\gyoni\\miniconda3\\lib\\site-packages (4.16.1)\n",
      "Requirement already satisfied: matplotlib in c:\\users\\gyoni\\miniconda3\\lib\\site-packages (3.10.0)\n",
      "Requirement already satisfied: seaborn in c:\\users\\gyoni\\miniconda3\\lib\\site-packages (0.13.2)\n",
      "Requirement already satisfied: numpy>=1.26.0 in c:\\users\\gyoni\\miniconda3\\lib\\site-packages (from pandas) (2.1.3)\n",
      "Requirement already satisfied: python-dateutil>=2.8.2 in c:\\users\\gyoni\\miniconda3\\lib\\site-packages (from pandas) (2.9.0.post0)\n",
      "Requirement already satisfied: pytz>=2020.1 in c:\\users\\gyoni\\miniconda3\\lib\\site-packages (from pandas) (2024.1)\n",
      "Requirement already satisfied: tzdata>=2022.7 in c:\\users\\gyoni\\miniconda3\\lib\\site-packages (from pandas) (2023.3)\n",
      "Requirement already satisfied: scipy>=1.6.0 in c:\\users\\gyoni\\miniconda3\\lib\\site-packages (from scikit-learn) (1.15.2)\n",
      "Requirement already satisfied: joblib>=1.2.0 in c:\\users\\gyoni\\miniconda3\\lib\\site-packages (from scikit-learn) (1.4.2)\n",
      "Requirement already satisfied: threadpoolctl>=3.1.0 in c:\\users\\gyoni\\miniconda3\\lib\\site-packages (from scikit-learn) (3.6.0)\n",
      "Requirement already satisfied: pydantic>=2 in c:\\users\\gyoni\\miniconda3\\lib\\site-packages (from ydata-profiling) (2.11.1)\n",
      "Requirement already satisfied: PyYAML<6.1,>=5.0.0 in c:\\users\\gyoni\\miniconda3\\lib\\site-packages (from ydata-profiling) (6.0.2)\n",
      "Requirement already satisfied: jinja2<3.2,>=2.11.1 in c:\\users\\gyoni\\miniconda3\\lib\\site-packages (from ydata-profiling) (3.1.5)\n",
      "Requirement already satisfied: visions<0.8.2,>=0.7.5 in c:\\users\\gyoni\\miniconda3\\lib\\site-packages (from visions[type_image_path]<0.8.2,>=0.7.5->ydata-profiling) (0.8.1)\n",
      "Requirement already satisfied: htmlmin==0.1.12 in c:\\users\\gyoni\\miniconda3\\lib\\site-packages (from ydata-profiling) (0.1.12)\n",
      "Requirement already satisfied: phik<0.13,>=0.11.1 in c:\\users\\gyoni\\miniconda3\\lib\\site-packages (from ydata-profiling) (0.12.4)\n",
      "Requirement already satisfied: requests<3,>=2.24.0 in c:\\users\\gyoni\\miniconda3\\lib\\site-packages (from ydata-profiling) (2.31.0)\n",
      "Requirement already satisfied: tqdm<5,>=4.48.2 in c:\\users\\gyoni\\miniconda3\\lib\\site-packages (from ydata-profiling) (4.65.0)\n",
      "Requirement already satisfied: multimethod<2,>=1.4 in c:\\users\\gyoni\\miniconda3\\lib\\site-packages (from ydata-profiling) (1.12)\n",
      "Requirement already satisfied: statsmodels<1,>=0.13.2 in c:\\users\\gyoni\\miniconda3\\lib\\site-packages (from ydata-profiling) (0.14.4)\n",
      "Requirement already satisfied: typeguard<5,>=3 in c:\\users\\gyoni\\miniconda3\\lib\\site-packages (from ydata-profiling) (4.4.2)\n",
      "Requirement already satisfied: imagehash==4.3.1 in c:\\users\\gyoni\\miniconda3\\lib\\site-packages (from ydata-profiling) (4.3.1)\n",
      "Requirement already satisfied: wordcloud>=1.9.3 in c:\\users\\gyoni\\miniconda3\\lib\\site-packages (from ydata-profiling) (1.9.4)\n",
      "Requirement already satisfied: dacite>=1.8 in c:\\users\\gyoni\\miniconda3\\lib\\site-packages (from ydata-profiling) (1.9.2)\n",
      "Requirement already satisfied: numba<=0.61,>=0.56.0 in c:\\users\\gyoni\\miniconda3\\lib\\site-packages (from ydata-profiling) (0.61.0)\n",
      "Requirement already satisfied: PyWavelets in c:\\users\\gyoni\\miniconda3\\lib\\site-packages (from imagehash==4.3.1->ydata-profiling) (1.8.0)\n",
      "Requirement already satisfied: pillow in c:\\users\\gyoni\\miniconda3\\lib\\site-packages (from imagehash==4.3.1->ydata-profiling) (11.1.0)\n",
      "Requirement already satisfied: contourpy>=1.0.1 in c:\\users\\gyoni\\miniconda3\\lib\\site-packages (from matplotlib) (1.3.1)\n",
      "Requirement already satisfied: cycler>=0.10 in c:\\users\\gyoni\\miniconda3\\lib\\site-packages (from matplotlib) (0.12.1)\n",
      "Requirement already satisfied: fonttools>=4.22.0 in c:\\users\\gyoni\\miniconda3\\lib\\site-packages (from matplotlib) (4.56.0)\n",
      "Requirement already satisfied: kiwisolver>=1.3.1 in c:\\users\\gyoni\\miniconda3\\lib\\site-packages (from matplotlib) (1.4.8)\n",
      "Requirement already satisfied: packaging>=20.0 in c:\\users\\gyoni\\miniconda3\\lib\\site-packages (from matplotlib) (23.2)\n",
      "Requirement already satisfied: pyparsing>=2.3.1 in c:\\users\\gyoni\\miniconda3\\lib\\site-packages (from matplotlib) (3.2.3)\n",
      "Requirement already satisfied: MarkupSafe>=2.0 in c:\\users\\gyoni\\miniconda3\\lib\\site-packages (from jinja2<3.2,>=2.11.1->ydata-profiling) (3.0.2)\n",
      "Requirement already satisfied: llvmlite<0.45,>=0.44.0dev0 in c:\\users\\gyoni\\miniconda3\\lib\\site-packages (from numba<=0.61,>=0.56.0->ydata-profiling) (0.44.0)\n",
      "Requirement already satisfied: annotated-types>=0.6.0 in c:\\users\\gyoni\\miniconda3\\lib\\site-packages (from pydantic>=2->ydata-profiling) (0.7.0)\n",
      "Requirement already satisfied: pydantic-core==2.33.0 in c:\\users\\gyoni\\miniconda3\\lib\\site-packages (from pydantic>=2->ydata-profiling) (2.33.0)\n",
      "Requirement already satisfied: typing-extensions>=4.12.2 in c:\\users\\gyoni\\miniconda3\\lib\\site-packages (from pydantic>=2->ydata-profiling) (4.12.2)\n",
      "Requirement already satisfied: typing-inspection>=0.4.0 in c:\\users\\gyoni\\miniconda3\\lib\\site-packages (from pydantic>=2->ydata-profiling) (0.4.0)\n",
      "Requirement already satisfied: six>=1.5 in c:\\users\\gyoni\\miniconda3\\lib\\site-packages (from python-dateutil>=2.8.2->pandas) (1.16.0)\n",
      "Requirement already satisfied: charset-normalizer<4,>=2 in c:\\users\\gyoni\\miniconda3\\lib\\site-packages (from requests<3,>=2.24.0->ydata-profiling) (2.0.4)\n",
      "Requirement already satisfied: idna<4,>=2.5 in c:\\users\\gyoni\\miniconda3\\lib\\site-packages (from requests<3,>=2.24.0->ydata-profiling) (3.4)\n",
      "Requirement already satisfied: urllib3<3,>=1.21.1 in c:\\users\\gyoni\\miniconda3\\lib\\site-packages (from requests<3,>=2.24.0->ydata-profiling) (2.1.0)\n",
      "Requirement already satisfied: certifi>=2017.4.17 in c:\\users\\gyoni\\miniconda3\\lib\\site-packages (from requests<3,>=2.24.0->ydata-profiling) (2025.1.31)\n",
      "Requirement already satisfied: patsy>=0.5.6 in c:\\users\\gyoni\\miniconda3\\lib\\site-packages (from statsmodels<1,>=0.13.2->ydata-profiling) (1.0.1)\n",
      "Requirement already satisfied: colorama in c:\\users\\gyoni\\miniconda3\\lib\\site-packages (from tqdm<5,>=4.48.2->ydata-profiling) (0.4.6)\n",
      "Requirement already satisfied: attrs>=19.3.0 in c:\\users\\gyoni\\miniconda3\\lib\\site-packages (from visions<0.8.2,>=0.7.5->visions[type_image_path]<0.8.2,>=0.7.5->ydata-profiling) (24.3.0)\n",
      "Requirement already satisfied: networkx>=2.4 in c:\\users\\gyoni\\miniconda3\\lib\\site-packages (from visions<0.8.2,>=0.7.5->visions[type_image_path]<0.8.2,>=0.7.5->ydata-profiling) (3.4.2)\n",
      "Requirement already satisfied: puremagic in c:\\users\\gyoni\\miniconda3\\lib\\site-packages (from visions<0.8.2,>=0.7.5->visions[type_image_path]<0.8.2,>=0.7.5->ydata-profiling) (1.28)\n"
     ]
    }
   ],
   "execution_count": 5
  },
  {
   "metadata": {
    "ExecuteTime": {
     "end_time": "2025-04-23T14:58:20.491574Z",
     "start_time": "2025-04-23T14:58:20.488046Z"
    }
   },
   "cell_type": "code",
   "source": [
    "import pandas as pd\n",
    "import mysql.connector\n",
    "from sklearn.model_selection import train_test_split\n",
    "from sklearn.ensemble import RandomForestRegressor\n",
    "from sklearn.metrics import mean_squared_error, r2_score\n",
    "from ydata_profiling import ProfileReport\n",
    "import seaborn as sns\n",
    "import matplotlib.pyplot as plt"
   ],
   "id": "4306903848124cc8",
   "outputs": [],
   "execution_count": 6
  },
  {
   "metadata": {},
   "cell_type": "markdown",
   "source": "MySQL Database Connection",
   "id": "784aca15f2d212a5"
  },
  {
   "metadata": {
    "ExecuteTime": {
     "end_time": "2025-04-23T14:58:26.221261Z",
     "start_time": "2025-04-23T14:58:25.160270Z"
    }
   },
   "cell_type": "code",
   "source": [
    "db_config = {\n",
    "    'host': 'localhost',\n",
    "    'user': 'root',\n",
    "    'password': 'root',\n",
    "    'database': 'PKK65QSteam'\n",
    "}\n",
    "conn = mysql.connector.connect(**db_config)\n",
    "\n",
    "dim_game = pd.read_sql(\"SELECT * FROM dim_game\", conn)\n",
    "fact_metrics = pd.read_sql(\"SELECT * FROM fact_game_metrics\", conn)\n",
    "\n",
    "df = pd.merge(dim_game, fact_metrics, on='AppID')"
   ],
   "id": "37a863bdd2e114b4",
   "outputs": [
    {
     "name": "stderr",
     "output_type": "stream",
     "text": [
      "C:\\Users\\gyoni\\AppData\\Local\\Temp\\ipykernel_2840\\1426311818.py:9: UserWarning: pandas only supports SQLAlchemy connectable (engine/connection) or database string URI or sqlite3 DBAPI2 connection. Other DBAPI2 objects are not tested. Please consider using SQLAlchemy.\n",
      "  dim_game = pd.read_sql(\"SELECT * FROM dim_game\", conn)\n",
      "C:\\Users\\gyoni\\AppData\\Local\\Temp\\ipykernel_2840\\1426311818.py:10: UserWarning: pandas only supports SQLAlchemy connectable (engine/connection) or database string URI or sqlite3 DBAPI2 connection. Other DBAPI2 objects are not tested. Please consider using SQLAlchemy.\n",
      "  fact_metrics = pd.read_sql(\"SELECT * FROM fact_game_metrics\", conn)\n"
     ]
    }
   ],
   "execution_count": 7
  },
  {
   "metadata": {},
   "cell_type": "markdown",
   "source": "Drop cells that can't be used for prediction",
   "id": "96a3d40b8adfa7cc"
  },
  {
   "metadata": {},
   "cell_type": "code",
   "outputs": [],
   "execution_count": null,
   "source": [
    "drop_columns = [\n",
    "    'Peak_CCU', 'Positive', 'Negative',\n",
    "    'Recommendations', 'steamspy_positive', 'steamspy_negative',\n",
    "    'Header_image', 'Estimated_owners'\n",
    "]\n",
    "df.drop(columns=drop_columns, inplace=True)\n",
    "df = df[df['Estimated_Revenue'].notnull()]"
   ],
   "id": "4c3309e14acadc32"
  },
  {
   "metadata": {},
   "cell_type": "markdown",
   "source": "Convert boolean OS support columns to integers",
   "id": "ec8ee97287a69e18"
  },
  {
   "metadata": {},
   "cell_type": "code",
   "outputs": [],
   "execution_count": null,
   "source": [
    "df['Windows'] = df['Windows'].astype(int)\n",
    "df['Mac'] = df['Mac'].astype(int)\n",
    "df['Linux'] = df['Linux'].astype(int)"
   ],
   "id": "70a94f536716b66"
  },
  {
   "metadata": {},
   "cell_type": "markdown",
   "source": "Convert list columns",
   "id": "4410f30a61d2fca5"
  },
  {
   "metadata": {},
   "cell_type": "code",
   "outputs": [],
   "execution_count": null,
   "source": [
    "for col in ['Genres', 'Tags', 'Categories']:\n",
    "    df[col] = df[col].fillna('').apply(lambda x: [i.strip() for i in x.split(',')])\n",
    "    mlb = df[col].explode().str.get_dummies().groupby(level=0).sum()\n",
    "    df = df.join(mlb).drop(columns=[col])"
   ],
   "id": "6620d04226e627e2"
  },
  {
   "metadata": {},
   "cell_type": "markdown",
   "source": "Run profiling",
   "id": "5fe9978da56bc6a5"
  },
  {
   "metadata": {},
   "cell_type": "code",
   "outputs": [],
   "execution_count": null,
   "source": [
    "profile = ProfileReport(df, title=\"Game Dataset Profiling Report\", explorative=True)\n",
    "profile.to_notebook_iframe()"
   ],
   "id": "6ec8b15bb3e71d36"
  }
 ],
 "metadata": {
  "kernelspec": {
   "display_name": "Python 3",
   "language": "python",
   "name": "python3"
  },
  "language_info": {
   "codemirror_mode": {
    "name": "ipython",
    "version": 2
   },
   "file_extension": ".py",
   "mimetype": "text/x-python",
   "name": "python",
   "nbconvert_exporter": "python",
   "pygments_lexer": "ipython2",
   "version": "2.7.6"
  }
 },
 "nbformat": 4,
 "nbformat_minor": 5
}
