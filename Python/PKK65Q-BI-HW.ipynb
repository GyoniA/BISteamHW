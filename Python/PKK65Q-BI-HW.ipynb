{
 "cells": [
  {
   "metadata": {},
   "cell_type": "markdown",
   "source": "Install dependencies",
   "id": "d3b12900f57d27fb"
  },
  {
   "metadata": {
    "ExecuteTime": {
     "end_time": "2025-04-27T10:44:01.538496Z",
     "start_time": "2025-04-27T10:43:57.469225Z"
    }
   },
   "cell_type": "code",
   "source": [
    "!pip install mysql-connector-python pandas scikit-learn ydata-profiling matplotlib seaborn catboost\n",
    "%matplotlib inline"
   ],
   "id": "a7adc528e1d2bf4a",
   "outputs": [
    {
     "name": "stdout",
     "output_type": "stream",
     "text": [
      "Requirement already satisfied: mysql-connector-python in c:\\users\\gyoni\\miniconda3\\lib\\site-packages (9.3.0)\n",
      "Requirement already satisfied: pandas in c:\\users\\gyoni\\miniconda3\\lib\\site-packages (2.2.3)\n",
      "Requirement already satisfied: scikit-learn in c:\\users\\gyoni\\miniconda3\\lib\\site-packages (1.6.1)\n",
      "Requirement already satisfied: ydata-profiling in c:\\users\\gyoni\\miniconda3\\lib\\site-packages (4.16.1)\n",
      "Requirement already satisfied: matplotlib in c:\\users\\gyoni\\miniconda3\\lib\\site-packages (3.10.0)\n",
      "Requirement already satisfied: seaborn in c:\\users\\gyoni\\miniconda3\\lib\\site-packages (0.13.2)\n",
      "Requirement already satisfied: catboost in c:\\users\\gyoni\\miniconda3\\lib\\site-packages (1.2.8)\n",
      "Requirement already satisfied: numpy>=1.26.0 in c:\\users\\gyoni\\miniconda3\\lib\\site-packages (from pandas) (2.1.3)\n",
      "Requirement already satisfied: python-dateutil>=2.8.2 in c:\\users\\gyoni\\miniconda3\\lib\\site-packages (from pandas) (2.9.0.post0)\n",
      "Requirement already satisfied: pytz>=2020.1 in c:\\users\\gyoni\\miniconda3\\lib\\site-packages (from pandas) (2024.1)\n",
      "Requirement already satisfied: tzdata>=2022.7 in c:\\users\\gyoni\\miniconda3\\lib\\site-packages (from pandas) (2023.3)\n",
      "Requirement already satisfied: scipy>=1.6.0 in c:\\users\\gyoni\\miniconda3\\lib\\site-packages (from scikit-learn) (1.15.2)\n",
      "Requirement already satisfied: joblib>=1.2.0 in c:\\users\\gyoni\\miniconda3\\lib\\site-packages (from scikit-learn) (1.4.2)\n",
      "Requirement already satisfied: threadpoolctl>=3.1.0 in c:\\users\\gyoni\\miniconda3\\lib\\site-packages (from scikit-learn) (3.6.0)\n",
      "Requirement already satisfied: pydantic>=2 in c:\\users\\gyoni\\miniconda3\\lib\\site-packages (from ydata-profiling) (2.11.1)\n",
      "Requirement already satisfied: PyYAML<6.1,>=5.0.0 in c:\\users\\gyoni\\miniconda3\\lib\\site-packages (from ydata-profiling) (6.0.2)\n",
      "Requirement already satisfied: jinja2<3.2,>=2.11.1 in c:\\users\\gyoni\\miniconda3\\lib\\site-packages (from ydata-profiling) (3.1.5)\n",
      "Requirement already satisfied: visions<0.8.2,>=0.7.5 in c:\\users\\gyoni\\miniconda3\\lib\\site-packages (from visions[type_image_path]<0.8.2,>=0.7.5->ydata-profiling) (0.8.1)\n",
      "Requirement already satisfied: htmlmin==0.1.12 in c:\\users\\gyoni\\miniconda3\\lib\\site-packages (from ydata-profiling) (0.1.12)\n",
      "Requirement already satisfied: phik<0.13,>=0.11.1 in c:\\users\\gyoni\\miniconda3\\lib\\site-packages (from ydata-profiling) (0.12.4)\n",
      "Requirement already satisfied: requests<3,>=2.24.0 in c:\\users\\gyoni\\miniconda3\\lib\\site-packages (from ydata-profiling) (2.31.0)\n",
      "Requirement already satisfied: tqdm<5,>=4.48.2 in c:\\users\\gyoni\\miniconda3\\lib\\site-packages (from ydata-profiling) (4.65.0)\n",
      "Requirement already satisfied: multimethod<2,>=1.4 in c:\\users\\gyoni\\miniconda3\\lib\\site-packages (from ydata-profiling) (1.12)\n",
      "Requirement already satisfied: statsmodels<1,>=0.13.2 in c:\\users\\gyoni\\miniconda3\\lib\\site-packages (from ydata-profiling) (0.14.4)\n",
      "Requirement already satisfied: typeguard<5,>=3 in c:\\users\\gyoni\\miniconda3\\lib\\site-packages (from ydata-profiling) (4.4.2)\n",
      "Requirement already satisfied: imagehash==4.3.1 in c:\\users\\gyoni\\miniconda3\\lib\\site-packages (from ydata-profiling) (4.3.1)\n",
      "Requirement already satisfied: wordcloud>=1.9.3 in c:\\users\\gyoni\\miniconda3\\lib\\site-packages (from ydata-profiling) (1.9.4)\n",
      "Requirement already satisfied: dacite>=1.8 in c:\\users\\gyoni\\miniconda3\\lib\\site-packages (from ydata-profiling) (1.9.2)\n",
      "Requirement already satisfied: numba<=0.61,>=0.56.0 in c:\\users\\gyoni\\miniconda3\\lib\\site-packages (from ydata-profiling) (0.61.0)\n",
      "Requirement already satisfied: PyWavelets in c:\\users\\gyoni\\miniconda3\\lib\\site-packages (from imagehash==4.3.1->ydata-profiling) (1.8.0)\n",
      "Requirement already satisfied: pillow in c:\\users\\gyoni\\miniconda3\\lib\\site-packages (from imagehash==4.3.1->ydata-profiling) (11.1.0)\n",
      "Requirement already satisfied: contourpy>=1.0.1 in c:\\users\\gyoni\\miniconda3\\lib\\site-packages (from matplotlib) (1.3.1)\n",
      "Requirement already satisfied: cycler>=0.10 in c:\\users\\gyoni\\miniconda3\\lib\\site-packages (from matplotlib) (0.12.1)\n",
      "Requirement already satisfied: fonttools>=4.22.0 in c:\\users\\gyoni\\miniconda3\\lib\\site-packages (from matplotlib) (4.56.0)\n",
      "Requirement already satisfied: kiwisolver>=1.3.1 in c:\\users\\gyoni\\miniconda3\\lib\\site-packages (from matplotlib) (1.4.8)\n",
      "Requirement already satisfied: packaging>=20.0 in c:\\users\\gyoni\\miniconda3\\lib\\site-packages (from matplotlib) (23.2)\n",
      "Requirement already satisfied: pyparsing>=2.3.1 in c:\\users\\gyoni\\miniconda3\\lib\\site-packages (from matplotlib) (3.2.3)\n",
      "Requirement already satisfied: graphviz in c:\\users\\gyoni\\miniconda3\\lib\\site-packages (from catboost) (0.20.3)\n",
      "Requirement already satisfied: plotly in c:\\users\\gyoni\\miniconda3\\lib\\site-packages (from catboost) (6.0.1)\n",
      "Requirement already satisfied: six in c:\\users\\gyoni\\miniconda3\\lib\\site-packages (from catboost) (1.16.0)\n",
      "Requirement already satisfied: MarkupSafe>=2.0 in c:\\users\\gyoni\\miniconda3\\lib\\site-packages (from jinja2<3.2,>=2.11.1->ydata-profiling) (3.0.2)\n",
      "Requirement already satisfied: llvmlite<0.45,>=0.44.0dev0 in c:\\users\\gyoni\\miniconda3\\lib\\site-packages (from numba<=0.61,>=0.56.0->ydata-profiling) (0.44.0)\n",
      "Requirement already satisfied: annotated-types>=0.6.0 in c:\\users\\gyoni\\miniconda3\\lib\\site-packages (from pydantic>=2->ydata-profiling) (0.7.0)\n",
      "Requirement already satisfied: pydantic-core==2.33.0 in c:\\users\\gyoni\\miniconda3\\lib\\site-packages (from pydantic>=2->ydata-profiling) (2.33.0)\n",
      "Requirement already satisfied: typing-extensions>=4.12.2 in c:\\users\\gyoni\\miniconda3\\lib\\site-packages (from pydantic>=2->ydata-profiling) (4.12.2)\n",
      "Requirement already satisfied: typing-inspection>=0.4.0 in c:\\users\\gyoni\\miniconda3\\lib\\site-packages (from pydantic>=2->ydata-profiling) (0.4.0)\n",
      "Requirement already satisfied: charset-normalizer<4,>=2 in c:\\users\\gyoni\\miniconda3\\lib\\site-packages (from requests<3,>=2.24.0->ydata-profiling) (2.0.4)\n",
      "Requirement already satisfied: idna<4,>=2.5 in c:\\users\\gyoni\\miniconda3\\lib\\site-packages (from requests<3,>=2.24.0->ydata-profiling) (3.4)\n",
      "Requirement already satisfied: urllib3<3,>=1.21.1 in c:\\users\\gyoni\\miniconda3\\lib\\site-packages (from requests<3,>=2.24.0->ydata-profiling) (2.1.0)\n",
      "Requirement already satisfied: certifi>=2017.4.17 in c:\\users\\gyoni\\miniconda3\\lib\\site-packages (from requests<3,>=2.24.0->ydata-profiling) (2025.1.31)\n",
      "Requirement already satisfied: patsy>=0.5.6 in c:\\users\\gyoni\\miniconda3\\lib\\site-packages (from statsmodels<1,>=0.13.2->ydata-profiling) (1.0.1)\n",
      "Requirement already satisfied: colorama in c:\\users\\gyoni\\miniconda3\\lib\\site-packages (from tqdm<5,>=4.48.2->ydata-profiling) (0.4.6)\n",
      "Requirement already satisfied: attrs>=19.3.0 in c:\\users\\gyoni\\miniconda3\\lib\\site-packages (from visions<0.8.2,>=0.7.5->visions[type_image_path]<0.8.2,>=0.7.5->ydata-profiling) (24.3.0)\n",
      "Requirement already satisfied: networkx>=2.4 in c:\\users\\gyoni\\miniconda3\\lib\\site-packages (from visions<0.8.2,>=0.7.5->visions[type_image_path]<0.8.2,>=0.7.5->ydata-profiling) (3.4.2)\n",
      "Requirement already satisfied: puremagic in c:\\users\\gyoni\\miniconda3\\lib\\site-packages (from visions<0.8.2,>=0.7.5->visions[type_image_path]<0.8.2,>=0.7.5->ydata-profiling) (1.28)\n",
      "Requirement already satisfied: narwhals>=1.15.1 in c:\\users\\gyoni\\miniconda3\\lib\\site-packages (from plotly->catboost) (1.36.0)\n"
     ]
    }
   ],
   "execution_count": 180
  },
  {
   "metadata": {
    "ExecuteTime": {
     "end_time": "2025-04-27T10:44:01.544336Z",
     "start_time": "2025-04-27T10:44:01.539001Z"
    }
   },
   "cell_type": "code",
   "source": [
    "import pandas as pd\n",
    "import mysql.connector\n",
    "from sklearn.model_selection import train_test_split\n",
    "from sklearn.ensemble import RandomForestRegressor\n",
    "from sklearn.metrics import mean_squared_error, r2_score\n",
    "from ydata_profiling import ProfileReport\n",
    "import seaborn as sns\n",
    "import matplotlib.pyplot as plt\n",
    "from catboost import CatBoostRegressor\n",
    "import numpy as np"
   ],
   "id": "4306903848124cc8",
   "outputs": [],
   "execution_count": 181
  },
  {
   "metadata": {},
   "cell_type": "markdown",
   "source": "MySQL Database Connection",
   "id": "784aca15f2d212a5"
  },
  {
   "metadata": {
    "ExecuteTime": {
     "end_time": "2025-04-27T10:44:02.657344Z",
     "start_time": "2025-04-27T10:44:01.545396Z"
    }
   },
   "cell_type": "code",
   "source": [
    "db_config = {\n",
    "    'host': 'localhost',\n",
    "    'user': 'root',\n",
    "    'password': 'root',\n",
    "    'database': 'PKK65QSteam'\n",
    "}\n",
    "conn = mysql.connector.connect(**db_config)\n",
    "\n",
    "dim_game = pd.read_sql(\"SELECT * FROM dim_game\", conn)\n",
    "fact_metrics = pd.read_sql(\"SELECT * FROM fact_game_metrics\", conn)\n",
    "\n",
    "df = pd.merge(dim_game, fact_metrics, on='AppID')"
   ],
   "id": "37a863bdd2e114b4",
   "outputs": [
    {
     "name": "stderr",
     "output_type": "stream",
     "text": [
      "C:\\Users\\gyoni\\AppData\\Local\\Temp\\ipykernel_2580\\1426311818.py:9: UserWarning: pandas only supports SQLAlchemy connectable (engine/connection) or database string URI or sqlite3 DBAPI2 connection. Other DBAPI2 objects are not tested. Please consider using SQLAlchemy.\n",
      "  dim_game = pd.read_sql(\"SELECT * FROM dim_game\", conn)\n",
      "C:\\Users\\gyoni\\AppData\\Local\\Temp\\ipykernel_2580\\1426311818.py:10: UserWarning: pandas only supports SQLAlchemy connectable (engine/connection) or database string URI or sqlite3 DBAPI2 connection. Other DBAPI2 objects are not tested. Please consider using SQLAlchemy.\n",
      "  fact_metrics = pd.read_sql(\"SELECT * FROM fact_game_metrics\", conn)\n"
     ]
    }
   ],
   "execution_count": 182
  },
  {
   "metadata": {},
   "cell_type": "markdown",
   "source": "Drop cells that can't be used for prediction",
   "id": "96a3d40b8adfa7cc"
  },
  {
   "metadata": {},
   "cell_type": "markdown",
   "source": "",
   "id": "a4ce8816f4854f73"
  },
  {
   "metadata": {
    "ExecuteTime": {
     "end_time": "2025-04-27T10:44:02.707981Z",
     "start_time": "2025-04-27T10:44:02.658348Z"
    }
   },
   "cell_type": "code",
   "source": [
    "drop_columns = [\n",
    "    'Peak_CCU', 'Positive', 'Negative',\n",
    "    'Recommendations', 'steamspy_positive', 'steamspy_negative',\n",
    "    'Header_image', 'Estimated_owners', 'Discount'\n",
    "]\n",
    "df.drop(columns=drop_columns, inplace=True)\n",
    "df = df[df['Estimated_Revenue'].notnull()]"
   ],
   "id": "4c3309e14acadc32",
   "outputs": [],
   "execution_count": 183
  },
  {
   "metadata": {},
   "cell_type": "markdown",
   "source": "Run profiling",
   "id": "5fe9978da56bc6a5"
  },
  {
   "metadata": {
    "ExecuteTime": {
     "end_time": "2025-04-27T10:44:12.456512Z",
     "start_time": "2025-04-27T10:44:02.708985Z"
    }
   },
   "cell_type": "code",
   "source": [
    "profile = ProfileReport(df, title=\"Game Dataset Profiling Report\", explorative=True, minimal=True)\n",
    "profile.to_file(\"PKK65Q_BI_HW_Profiling.html\")"
   ],
   "id": "6ec8b15bb3e71d36",
   "outputs": [
    {
     "data": {
      "text/plain": [
       "Summarize dataset:   0%|          | 0/5 [00:00<?, ?it/s]"
      ],
      "application/vnd.jupyter.widget-view+json": {
       "version_major": 2,
       "version_minor": 0,
       "model_id": "cee033328f94458eac5e429092b57bb3"
      }
     },
     "metadata": {},
     "output_type": "display_data"
    },
    {
     "name": "stderr",
     "output_type": "stream",
     "text": [
      "\n",
      "  0%|          | 0/17 [00:00<?, ?it/s]\u001B[A\n",
      "100%|██████████| 17/17 [00:02<00:00,  8.18it/s][A\n"
     ]
    },
    {
     "data": {
      "text/plain": [
       "Generate report structure:   0%|          | 0/1 [00:00<?, ?it/s]"
      ],
      "application/vnd.jupyter.widget-view+json": {
       "version_major": 2,
       "version_minor": 0,
       "model_id": "508a3b00a36f466ebacd5c769cbfd7d9"
      }
     },
     "metadata": {},
     "output_type": "display_data"
    },
    {
     "data": {
      "text/plain": [
       "Render HTML:   0%|          | 0/1 [00:00<?, ?it/s]"
      ],
      "application/vnd.jupyter.widget-view+json": {
       "version_major": 2,
       "version_minor": 0,
       "model_id": "4e94859d449145ceae1e50ef5865a154"
      }
     },
     "metadata": {},
     "output_type": "display_data"
    },
    {
     "data": {
      "text/plain": [
       "Export report to file:   0%|          | 0/1 [00:00<?, ?it/s]"
      ],
      "application/vnd.jupyter.widget-view+json": {
       "version_major": 2,
       "version_minor": 0,
       "model_id": "164a542789964d749946bd19ed75b8a2"
      }
     },
     "metadata": {},
     "output_type": "display_data"
    }
   ],
   "execution_count": 184
  },
  {
   "metadata": {},
   "cell_type": "markdown",
   "source": "Convert boolean OS support columns to integers",
   "id": "ec8ee97287a69e18"
  },
  {
   "metadata": {
    "ExecuteTime": {
     "end_time": "2025-04-27T10:44:12.463780Z",
     "start_time": "2025-04-27T10:44:12.458028Z"
    }
   },
   "cell_type": "code",
   "source": [
    "df['Windows'] = df['Windows'].astype(int)\n",
    "df['Mac'] = df['Mac'].astype(int)\n",
    "df['Linux'] = df['Linux'].astype(int)"
   ],
   "id": "70a94f536716b66",
   "outputs": [],
   "execution_count": 185
  },
  {
   "metadata": {},
   "cell_type": "markdown",
   "source": "Drop string/date columns",
   "id": "4410f30a61d2fca5"
  },
  {
   "metadata": {
    "ExecuteTime": {
     "end_time": "2025-04-27T10:44:12.480349Z",
     "start_time": "2025-04-27T10:44:12.465332Z"
    }
   },
   "cell_type": "code",
   "source": "df.drop(columns=['Name', 'Genres', 'Tags', 'Categories', 'Release_date'], inplace=True)",
   "id": "6620d04226e627e2",
   "outputs": [],
   "execution_count": 186
  },
  {
   "metadata": {},
   "cell_type": "markdown",
   "source": "Split dataset into train and validation sets",
   "id": "95ac73399e02ad01"
  },
  {
   "metadata": {
    "ExecuteTime": {
     "end_time": "2025-04-27T10:44:12.512006Z",
     "start_time": "2025-04-27T10:44:12.481364Z"
    }
   },
   "cell_type": "code",
   "source": [
    "X = df.drop(columns=['AppID', 'Estimated_Revenue'])\n",
    "for col in ['Price', 'DLC_count', 'Achievements', 'Median_playtime_forever']:\n",
    "    if col in X.columns:\n",
    "        X[col] = np.log1p(X[col])\n",
    "\n",
    "y = df['Estimated_Revenue']\n",
    "y = np.log1p(y)\n",
    "\n",
    "X_train, X_val, y_train, y_val = train_test_split(X, y, test_size=0.2, random_state=1)"
   ],
   "id": "a4356cd45af993df",
   "outputs": [],
   "execution_count": 187
  },
  {
   "metadata": {},
   "cell_type": "markdown",
   "source": "Train CatBoost model",
   "id": "af26dacf2299d72a"
  },
  {
   "metadata": {
    "ExecuteTime": {
     "end_time": "2025-04-27T10:44:27.215999Z",
     "start_time": "2025-04-27T10:44:12.513012Z"
    }
   },
   "cell_type": "code",
   "source": [
    "model = CatBoostRegressor(\n",
    "    iterations=3000,\n",
    "    learning_rate=0.01,\n",
    "    depth=6,\n",
    "    loss_function='RMSE',\n",
    "    eval_metric='RMSE',\n",
    "    random_seed=42,\n",
    "    od_type='Iter',\n",
    "    early_stopping_rounds=100,\n",
    "    verbose=100\n",
    ")\n",
    "\n",
    "model.fit(\n",
    "    X_train, y_train,\n",
    "    eval_set=(X_val, y_val),\n",
    "    use_best_model=True\n",
    ")\n",
    "\n",
    "y_pred_log = model.predict(X_val)\n",
    "y_pred = np.expm1(y_pred_log)\n",
    "y_val = np.expm1(y_val)\n",
    "\n",
    "print(\"MSE:\", mean_squared_error(y_val, y_pred))"
   ],
   "id": "24b74e87b8655142",
   "outputs": [
    {
     "name": "stdout",
     "output_type": "stream",
     "text": [
      "0:\tlearn: 2.3362627\ttest: 2.2981804\tbest: 2.2981804 (0)\ttotal: 5.21ms\tremaining: 15.6s\n",
      "100:\tlearn: 1.7900446\ttest: 1.7561628\tbest: 1.7561628 (100)\ttotal: 458ms\tremaining: 13.1s\n",
      "200:\tlearn: 1.6749057\ttest: 1.6467280\tbest: 1.6467280 (200)\ttotal: 905ms\tremaining: 12.6s\n",
      "300:\tlearn: 1.6460855\ttest: 1.6214129\tbest: 1.6214129 (300)\ttotal: 1.34s\tremaining: 12s\n",
      "400:\tlearn: 1.6352805\ttest: 1.6127177\tbest: 1.6127177 (400)\ttotal: 1.78s\tremaining: 11.6s\n",
      "500:\tlearn: 1.6291923\ttest: 1.6084814\tbest: 1.6084814 (500)\ttotal: 2.23s\tremaining: 11.1s\n",
      "600:\tlearn: 1.6250899\ttest: 1.6057371\tbest: 1.6057371 (600)\ttotal: 2.69s\tremaining: 10.7s\n",
      "700:\tlearn: 1.6215178\ttest: 1.6033877\tbest: 1.6033877 (700)\ttotal: 3.15s\tremaining: 10.3s\n",
      "800:\tlearn: 1.6181944\ttest: 1.6015510\tbest: 1.6015510 (800)\ttotal: 3.61s\tremaining: 9.92s\n",
      "900:\tlearn: 1.6149279\ttest: 1.5995018\tbest: 1.5995016 (899)\ttotal: 4.08s\tremaining: 9.5s\n",
      "1000:\tlearn: 1.6119003\ttest: 1.5976636\tbest: 1.5976636 (1000)\ttotal: 4.54s\tremaining: 9.07s\n",
      "1100:\tlearn: 1.6086467\ttest: 1.5955657\tbest: 1.5955657 (1100)\ttotal: 5.01s\tremaining: 8.64s\n",
      "1200:\tlearn: 1.6054243\ttest: 1.5934496\tbest: 1.5934496 (1200)\ttotal: 5.5s\tremaining: 8.25s\n",
      "1300:\tlearn: 1.6024884\ttest: 1.5913829\tbest: 1.5913829 (1300)\ttotal: 5.98s\tremaining: 7.81s\n",
      "1400:\tlearn: 1.5996377\ttest: 1.5897288\tbest: 1.5897288 (1400)\ttotal: 6.46s\tremaining: 7.37s\n",
      "1500:\tlearn: 1.5969764\ttest: 1.5881665\tbest: 1.5881665 (1500)\ttotal: 6.93s\tremaining: 6.92s\n",
      "1600:\tlearn: 1.5946832\ttest: 1.5869425\tbest: 1.5869425 (1600)\ttotal: 7.42s\tremaining: 6.48s\n",
      "1700:\tlearn: 1.5926254\ttest: 1.5859765\tbest: 1.5859680 (1699)\ttotal: 7.9s\tremaining: 6.03s\n",
      "1800:\tlearn: 1.5907440\ttest: 1.5851780\tbest: 1.5851780 (1800)\ttotal: 8.38s\tremaining: 5.58s\n",
      "1900:\tlearn: 1.5890005\ttest: 1.5845351\tbest: 1.5845351 (1900)\ttotal: 8.86s\tremaining: 5.12s\n",
      "2000:\tlearn: 1.5871657\ttest: 1.5838859\tbest: 1.5838859 (2000)\ttotal: 9.35s\tremaining: 4.67s\n",
      "2100:\tlearn: 1.5853034\ttest: 1.5832505\tbest: 1.5832468 (2099)\ttotal: 9.84s\tremaining: 4.21s\n",
      "2200:\tlearn: 1.5834764\ttest: 1.5826502\tbest: 1.5826387 (2198)\ttotal: 10.3s\tremaining: 3.75s\n",
      "2300:\tlearn: 1.5818888\ttest: 1.5819432\tbest: 1.5819432 (2300)\ttotal: 10.8s\tremaining: 3.29s\n",
      "2400:\tlearn: 1.5801543\ttest: 1.5811664\tbest: 1.5811664 (2400)\ttotal: 11.3s\tremaining: 2.82s\n",
      "2500:\tlearn: 1.5785844\ttest: 1.5805971\tbest: 1.5805971 (2500)\ttotal: 11.8s\tremaining: 2.35s\n",
      "2600:\tlearn: 1.5771888\ttest: 1.5802815\tbest: 1.5802815 (2600)\ttotal: 12.3s\tremaining: 1.89s\n",
      "2700:\tlearn: 1.5757202\ttest: 1.5799230\tbest: 1.5799230 (2700)\ttotal: 12.8s\tremaining: 1.41s\n",
      "2800:\tlearn: 1.5743067\ttest: 1.5796469\tbest: 1.5796426 (2799)\ttotal: 13.3s\tremaining: 943ms\n",
      "2900:\tlearn: 1.5729207\ttest: 1.5793614\tbest: 1.5793614 (2900)\ttotal: 13.8s\tremaining: 470ms\n",
      "2999:\tlearn: 1.5714557\ttest: 1.5789741\tbest: 1.5789740 (2998)\ttotal: 14.3s\tremaining: 0us\n",
      "\n",
      "bestTest = 1.578974027\n",
      "bestIteration = 2998\n",
      "\n",
      "Shrink model to first 2999 iterations.\n",
      "MSE: 21351949602.304058\n"
     ]
    }
   ],
   "execution_count": 188
  },
  {
   "metadata": {
    "ExecuteTime": {
     "end_time": "2025-04-27T10:44:38.666512Z",
     "start_time": "2025-04-27T10:44:38.528964Z"
    }
   },
   "cell_type": "code",
   "source": [
    "sns.scatterplot(x=y_val, y=y_pred)\n",
    "plt.xlabel(\"Actual Revenue\")\n",
    "plt.ylabel(\"Predicted Revenue\")\n",
    "plt.title(\"Actual vs Predicted Revenue\")\n",
    "plt.show()"
   ],
   "id": "32b979e4d082d155",
   "outputs": [
    {
     "data": {
      "text/plain": [
       "<Figure size 640x480 with 1 Axes>"
      ],
      "image/png": "[encoded data removed]"
     },
     "metadata": {},
     "output_type": "display_data"
    }
   ],
   "execution_count": 190
  }
 ],
 "metadata": {
  "kernelspec": {
   "display_name": "Python 3",
   "language": "python",
   "name": "python3"
  },
  "language_info": {
   "codemirror_mode": {
    "name": "ipython",
    "version": 2
   },
   "file_extension": ".py",
   "mimetype": "text/x-python",
   "name": "python",
   "nbconvert_exporter": "python",
   "pygments_lexer": "ipython2",
   "version": "2.7.6"
  }
 },
 "nbformat": 4,
 "nbformat_minor": 5
}
